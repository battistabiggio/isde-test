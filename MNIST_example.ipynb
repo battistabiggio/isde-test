{
  "nbformat": 4,
  "nbformat_minor": 0,
  "metadata": {
    "colab": {
      "name": "MNIST-example.ipynb",
      "provenance": [],
      "authorship_tag": "ABX9TyN4O5tM+8H39J8DpRFrXeKi",
      "include_colab_link": true
    },
    "kernelspec": {
      "name": "python3",
      "display_name": "Python 3"
    },
    "language_info": {
      "name": "python"
    }
  },
  "cells": [
    {
      "cell_type": "markdown",
      "metadata": {
        "id": "view-in-github",
        "colab_type": "text"
      },
      "source": [
        "<a href=\"https://colab.research.google.com/github/bbiggio/isde-test/blob/main/MNIST_example.ipynb\" target=\"_parent\"><img src=\"https://colab.research.google.com/assets/colab-badge.svg\" alt=\"Open In Colab\"/></a>"
      ]
    },
    {
      "cell_type": "code",
      "metadata": {
        "colab": {
          "base_uri": "https://localhost:8080/"
        },
        "id": "cyuVdz_BHtb4",
        "outputId": "10cabc2b-1691-4de8-f978-9cc5d0df5ae5"
      },
      "source": [
        "from sklearn.datasets import fetch_openml\n",
        "\n",
        "mnist = fetch_openml('mnist_784', cache=True)\n",
        "\n",
        "print(mnist.data.shape)"
      ],
      "execution_count": 1,
      "outputs": [
        {
          "output_type": "stream",
          "name": "stdout",
          "text": [
            "(70000, 784)\n"
          ]
        }
      ]
    },
    {
      "cell_type": "code",
      "metadata": {
        "colab": {
          "base_uri": "https://localhost:8080/",
          "height": 345
        },
        "id": "kNln3BK9Ijz8",
        "outputId": "049464f5-db62-487c-d309-79f29581990a"
      },
      "source": [
        "import numpy as np\n",
        "import matplotlib.pyplot as plt\n",
        "\n",
        "\n",
        "x = mnist.data / 255\n",
        "y = np.array(mnist.target, dtype=int)\n",
        "\n",
        "print(x.shape, y.shape)\n",
        "\n",
        "# visualize first 10 images\n",
        "plt.figure(figsize=(10,5))\n",
        "for i in range(10):\n",
        "    plt.subplot(2,5,i+1)\n",
        "    img = x[i, :].reshape(28,28)\n",
        "    plt.imshow(img, cmap='gray')\n",
        "    plt.title(\"Label: \" + str(y[i]))\n",
        "\n",
        "\n"
      ],
      "execution_count": 2,
      "outputs": [
        {
          "output_type": "stream",
          "name": "stdout",
          "text": [
            "(70000, 784) (70000,)\n"
          ]
        },
        {
          "output_type": "display_data",
          "data": {
            "image/png": "[encoded data removed]",
            "text/plain": [
              "<Figure size 720x360 with 10 Axes>"
            ]
          },
          "metadata": {
            "needs_background": "light"
          }
        }
      ]
    },
    {
      "cell_type": "code",
      "metadata": {
        "colab": {
          "base_uri": "https://localhost:8080/",
          "height": 302
        },
        "id": "tMbmurmGNzmo",
        "outputId": "7eb24175-6bb1-4720-ecf1-9ec24bad8994"
      },
      "source": [
        "def samples_per_class(y):\n",
        "\n",
        "    class_labels = np.unique(y)\n",
        "    n_classes = class_labels.size\n",
        "\n",
        "    # count how many elements we have in each class\n",
        "    n_samples_per_class = np.zeros(shape=(n_classes,))\n",
        "\n",
        "    # how many digits of class 'k' do we have among the 70K given images?\n",
        "    for k in range(n_classes):\n",
        "        n_samples_per_class[k] = np.sum(y == k)\n",
        "    \n",
        "    return n_samples_per_class, class_labels\n",
        "\n",
        "\n",
        "n_samples_per_class, class_labels = samples_per_class(y)\n",
        "plt.bar(class_labels, n_samples_per_class)\n",
        "\n",
        "\n"
      ],
      "execution_count": 26,
      "outputs": [
        {
          "output_type": "execute_result",
          "data": {
            "text/plain": [
              "<BarContainer object of 10 artists>"
            ]
          },
          "metadata": {},
          "execution_count": 26
        },
        {
          "output_type": "display_data",
          "data": {
            "image/png": "[encoded data removed]",
            "text/plain": [
              "<Figure size 432x288 with 1 Axes>"
            ]
          },
          "metadata": {
            "needs_background": "light"
          }
        }
      ]
    },
    {
      "cell_type": "code",
      "metadata": {
        "id": "wr8VrmkEydUS",
        "outputId": "aedf7760-de54-4231-e50f-b1e7a96ff3da",
        "colab": {
          "base_uri": "https://localhost:8080/",
          "height": 373
        }
      },
      "source": [
        "# data splits: goal is to split X,y into two disjoint sets.\n",
        "n_tr = 50000\n",
        "n_ts = 20000\n",
        "\n",
        "# split_data: input X,y --> output X_tr, y_tr, X_ts, y_ts\n",
        "#    input (0, 1, 2, 3, ... 69999) --> shuffle --> extract the first n_tr, n_ts -> output idx_tr, idx_ts\n",
        "\n",
        "def split_data(x, y, n_tr, n_ts):\n",
        "\n",
        "    n_samples = x.shape[0]\n",
        "    idx = np.linspace(0, n_samples-1, num=n_samples, dtype=int)\n",
        "    np.random.shuffle(idx)\n",
        "    idx_tr = idx[:n_tr]\n",
        "    idx_ts = idx[n_tr:n_tr+n_ts]\n",
        "\n",
        "    x_tr = x[idx_tr, :]\n",
        "    y_tr = y[idx_tr]\n",
        "    x_ts = x[idx_ts, :]\n",
        "    y_ts = y[idx_ts]\n",
        "    return x_tr, y_tr, x_ts, y_ts\n",
        "\n",
        "\n",
        "x_tr, y_tr, x_ts, y_ts = split_data(x, y, n_tr, n_ts)\n",
        "\n",
        "print(x_tr.shape, x_ts.shape, y_tr.shape, y_ts.shape)\n",
        "\n",
        "n_tr_samples_per_class, class_labels = samples_per_class(y_tr)\n",
        "n_ts_samples_per_class, class_labels = samples_per_class(y_ts)\n",
        "\n",
        "plt.figure(figsize=(10, 5))\n",
        "plt.subplot(1,2,1)\n",
        "plt.bar(class_labels, n_tr_samples_per_class)\n",
        "plt.subplot(1,2,2)\n",
        "plt.bar(class_labels, n_ts_samples_per_class)\n",
        "\n"
      ],
      "execution_count": 34,
      "outputs": [
        {
          "output_type": "stream",
          "name": "stdout",
          "text": [
            "(50000, 784) (20000, 784) (50000,) (20000,)\n"
          ]
        },
        {
          "output_type": "execute_result",
          "data": {
            "text/plain": [
              "<BarContainer object of 10 artists>"
            ]
          },
          "metadata": {},
          "execution_count": 34
        },
        {
          "output_type": "display_data",
          "data": {
            "image/png": "[encoded data removed]",
            "text/plain": [
              "<Figure size 720x360 with 2 Axes>"
            ]
          },
          "metadata": {
            "needs_background": "light"
          }
        }
      ]
    },
    {
      "cell_type": "code",
      "metadata": {
        "id": "GYZV4qF-9oRR",
        "outputId": "8f8cc241-7a4d-4695-9c3a-3bffcbaaeffc",
        "colab": {
          "base_uri": "https://localhost:8080/",
          "height": 328
        }
      },
      "source": [
        "# we want to compute the average (centroid) image for each class (from the training set!)\n",
        "\n",
        "# fit: x_tr, y_tr --> centroids (of shape = (10, 784))\n",
        "\n",
        "def fit(x_tr, y_tr):\n",
        "    n_classes = np.unique(y_tr).size  # count how many different elements we have in y_tr (should be 10)\n",
        "    n_features = x_tr.shape[1]\n",
        "    centroids = np.zeros(shape=(n_classes, n_features))\n",
        "\n",
        "    for k in range(n_classes):\n",
        "        # extract only images of 0 from x_tr\n",
        "        xk = x_tr[y_tr==k, :]\n",
        "        centroids[k, :] = np.mean(xk, axis=0)\n",
        "    \n",
        "    return centroids\n",
        "\n",
        "centroids = fit(x_tr, y_tr)\n",
        "\n",
        "# visualize the centroids\n",
        "plt.figure(figsize=(10,5))\n",
        "for k in range(n_classes):\n",
        "    plt.subplot(2,5,k+1)\n",
        "    plt.imshow(centroids[k,:].reshape(28,28), cmap='gray')\n",
        "    plt.title(\"Label: \" + str(k))\n",
        "\n"
      ],
      "execution_count": 56,
      "outputs": [
        {
          "output_type": "display_data",
          "data": {
            "image/png": "[encoded data removed]",
            "text/plain": [
              "<Figure size 720x360 with 10 Axes>"
            ]
          },
          "metadata": {
            "needs_background": "light"
          }
        }
      ]
    },
    {
      "cell_type": "code",
      "metadata": {
        "id": "GzH4fjcoFBJy",
        "outputId": "2cde2d29-03ec-42ba-b08c-8885f01535db",
        "colab": {
          "base_uri": "https://localhost:8080/"
        }
      },
      "source": [
        "# Implementation of predict. \n",
        "# def predict(x_ts, centroids) --> y_pred\n",
        "# 1. compute distances of test points against the centroids (distance matrix)\n",
        "# 2. need to assign one predicted label to each test sample\n",
        "\n",
        "n_ts_samples = x_ts.shape[0]\n",
        "n_classes = centroids.shape[0]\n",
        "\n",
        "dist = np.zeros(shape=(n_ts_samples, n_classes))\n",
        "dist1 = np.zeros(shape=(n_ts_samples, n_classes))\n",
        "print(dist.shape)\n",
        "\n",
        "import time\n",
        "from sklearn.metrics import pairwise_distances\n",
        "\n",
        "# start_time = time.time()\n",
        "# for i in range(n_ts_samples):\n",
        "#    for k in range(n_classes):\n",
        "#        dist[i,k] = np.sqrt(np.sum((x_ts[i,:]-centroids[k,:])**2))\n",
        "\n",
        "# print(time.time()-start_time)\n",
        "\n",
        "start_time = time.time()\n",
        "# broadcasting to make this faster? (e.g. maybe saving one loop?)\n",
        "for k in range(n_classes):\n",
        "    dist1[:,k] = np.sqrt(np.sum((x_ts-centroids[k,:])**2, axis=1))\n",
        "\n",
        "print(time.time()-start_time)\n",
        "\n",
        "# print(dist-dist1)\n",
        "\n",
        "start_time = time.time()\n",
        "\n",
        "dist2 = pairwise_distances(x_ts, centroids)\n",
        "\n",
        "print(time.time()-start_time)\n",
        "\n",
        "m = np.argmin(dist2, axis=1)\n",
        "\n",
        "print(dist2[:5, :])\n",
        "print(m[:5])\n",
        "\n",
        "\n",
        "\n",
        "\n",
        "def predict(x_ts, centroids):\n",
        "    dist = pairwise_distances(x_ts, centroids)\n",
        "    y_pred = np.argmin(dist, axis=1)\n",
        "    return y_pred\n",
        "\n",
        "y_pred = predict(x_ts, centroids)\n",
        "\n",
        "print(np.mean(y_pred != y_ts))\n",
        "\n",
        "\n",
        "\n"
      ],
      "execution_count": 79,
      "outputs": [
        {
          "output_type": "stream",
          "name": "stdout",
          "text": [
            "(20000, 10)\n",
            "0.540968656539917\n",
            "0.07235312461853027\n",
            "[[7.16448359 9.52155744 8.32289327 8.32493759 8.36797507 7.64182519\n",
            "  6.26196727 9.1975319  8.13031495 8.23781993]\n",
            " [9.07956049 9.29761443 8.03761596 9.29295605 8.11850386 8.57568089\n",
            "  6.28086281 9.1718313  8.48401348 8.4526041 ]\n",
            " [7.39935882 8.90389554 7.33178481 8.11107384 7.55250519 7.40687123\n",
            "  7.80781774 8.37390607 7.71412134 8.03858488]\n",
            " [9.37302004 7.3874227  6.46475494 7.76480571 8.95107264 8.27271901\n",
            "  7.42721587 9.06842332 7.852446   8.8072948 ]\n",
            " [8.41970966 8.90560528 8.20726504 8.99389144 5.62604752 7.67230184\n",
            "  7.59667034 7.25725323 7.97199842 6.69881611]]\n",
            "[6 6 2 2 4]\n",
            "0.1914\n"
          ]
        }
      ]
    }
  ]
}