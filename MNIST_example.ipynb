{
  "nbformat": 4,
  "nbformat_minor": 0,
  "metadata": {
    "colab": {
      "name": "MNIST-example.ipynb",
      "provenance": [],
      "authorship_tag": "ABX9TyOb5Fqxq16sHoppjq/j86Y/",
      "include_colab_link": true
    },
    "kernelspec": {
      "name": "python3",
      "display_name": "Python 3"
    },
    "language_info": {
      "name": "python"
    }
  },
  "cells": [
    {
      "cell_type": "markdown",
      "metadata": {
        "id": "view-in-github",
        "colab_type": "text"
      },
      "source": [
        "<a href=\"https://colab.research.google.com/github/bbiggio/isde-test/blob/main/MNIST_example.ipynb\" target=\"_parent\"><img src=\"https://colab.research.google.com/assets/colab-badge.svg\" alt=\"Open In Colab\"/></a>"
      ]
    },
    {
      "cell_type": "code",
      "metadata": {
        "colab": {
          "base_uri": "https://localhost:8080/"
        },
        "id": "cyuVdz_BHtb4",
        "outputId": "3202cd6d-f9d8-405d-81a4-6aa0ea03ebf9"
      },
      "source": [
        "from sklearn.datasets import fetch_openml\n",
        "\n",
        "mnist = fetch_openml('mnist_784', cache=True)\n",
        "\n",
        "print(mnist.data.shape)"
      ],
      "execution_count": 2,
      "outputs": [
        {
          "output_type": "stream",
          "name": "stdout",
          "text": [
            "(70000, 784)\n"
          ]
        }
      ]
    },
    {
      "cell_type": "code",
      "metadata": {
        "colab": {
          "base_uri": "https://localhost:8080/",
          "height": 325
        },
        "id": "kNln3BK9Ijz8",
        "outputId": "bc9f566d-3f3b-4a97-b2c8-af9b7c40f0a2"
      },
      "source": [
        "import numpy as np\n",
        "import matplotlib.pyplot as plt\n",
        "\n",
        "\n",
        "x = mnist.data / 255\n",
        "y = np.array(mnist.target, dtype=int)\n",
        "\n",
        "print(x.shape, y.shape)\n",
        "\n",
        "# visualize first 10 images\n",
        "plt.figure(figsize=(10,5))\n",
        "for i in range(10):\n",
        "    plt.subplot(2,5,i+1)\n",
        "    img = x[i, :].reshape(28,28)\n",
        "    plt.imshow(img, cmap='gray')\n",
        "    plt.title(\"Label: \" + str(y[i]))\n",
        "\n",
        "\n"
      ],
      "execution_count": 18,
      "outputs": [
        {
          "output_type": "stream",
          "name": "stdout",
          "text": [
            "(70000, 784) (70000,)\n"
          ]
        },
        {
          "output_type": "display_data",
          "data": {
            "image/png": "[encoded data removed]",
            "text/plain": [
              "<Figure size 720x360 with 10 Axes>"
            ]
          },
          "metadata": {
            "needs_background": "light"
          }
        }
      ]
    },
    {
      "cell_type": "code",
      "metadata": {
        "colab": {
          "base_uri": "https://localhost:8080/",
          "height": 332
        },
        "id": "tMbmurmGNzmo",
        "outputId": "17bd7840-182e-49d9-dccc-9bffce97ae51"
      },
      "source": [
        "class_labels = np.unique(y)\n",
        "n_classes = class_labels.size\n",
        "\n",
        "# count how many elements we have in each class\n",
        "n_samples_per_class = np.zeros(shape=(n_classes,))\n",
        "\n",
        "# how many digits of class 'k' do we have among the 70K given images?\n",
        "for k in range(n_classes):\n",
        "    n_samples_per_class[k] = np.sum(y == k)\n",
        "\n",
        "print(n_samples_per_class / n_samples_per_class.sum())\n",
        "\n",
        "\n",
        "print(class_labels)\n",
        "\n",
        "plt.bar(class_labels, n_samples_per_class)\n"
      ],
      "execution_count": 30,
      "outputs": [
        {
          "output_type": "stream",
          "name": "stdout",
          "text": [
            "[0.09861429 0.11252857 0.09985714 0.10201429 0.09748571 0.09018571\n",
            " 0.09822857 0.10418571 0.0975     0.0994    ]\n",
            "[0 1 2 3 4 5 6 7 8 9]\n"
          ]
        },
        {
          "output_type": "execute_result",
          "data": {
            "text/plain": [
              "<BarContainer object of 10 artists>"
            ]
          },
          "metadata": {},
          "execution_count": 30
        },
        {
          "output_type": "display_data",
          "data": {
            "image/png": "[encoded data removed]",
            "text/plain": [
              "<Figure size 432x288 with 1 Axes>"
            ]
          },
          "metadata": {
            "needs_background": "light"
          }
        }
      ]
    }
  ]
}